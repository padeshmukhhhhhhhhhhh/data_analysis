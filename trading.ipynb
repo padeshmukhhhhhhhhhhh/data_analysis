{
 "cells": [
  {
   "cell_type": "code",
   "execution_count": 3,
   "id": "9d32dae1-14a5-4924-b7ae-c891b242b243",
   "metadata": {},
   "outputs": [],
   "source": [
    "import pandas as pd \n",
    "import numpy as np\n",
    "import websocket \n",
    "import json"
   ]
  },
  {
   "cell_type": "code",
   "execution_count": null,
   "id": "bb681595-9be2-4aa4-a75e-af7f569ccc54",
   "metadata": {},
   "outputs": [],
   "source": [
    "endpoint=\"wss://stream.binance.us:9443/ws\"\n"
   ]
  },
  {
   "cell_type": "code",
   "execution_count": null,
   "id": "78172e45-4c33-43b2-9792-27314ad257cf",
   "metadata": {},
   "outputs": [],
   "source": [
    "\n",
    "def on_open(ws):\n",
    "    ws.send({\n",
    "  \"method\": \"SUBSCRIBE\",\n",
    "  \"params\": [\n",
    "    \"btcusdt@ticker\"],\n",
    "  \"id\": 1\n",
    "})\n",
    "def on_message(ws,message):\n",
    "    global mg\n",
    "    mg=json.loads(message)\n",
    "    print(mg)\n",
    "    \n",
    "  "
   ]
  },
  {
   "cell_type": "code",
   "execution_count": null,
   "id": "a40e5448-5847-48f8-b7b8-d42e5ecf286b",
   "metadata": {},
   "outputs": [],
   "source": [
    "t = websocket.WebSocketApp(endpoint,on_message=on_message, on_open=on_open)"
   ]
  },
  {
   "cell_type": "code",
   "execution_count": null,
   "id": "74f51aa2-d267-4326-84ab-a253ddf8bff5",
   "metadata": {},
   "outputs": [],
   "source": [
    "t.run_forever()"
   ]
  }
 ],
 "metadata": {
  "kernelspec": {
   "display_name": "Python 3 (ipykernel)",
   "language": "python",
   "name": "python3"
  },
  "language_info": {
   "codemirror_mode": {
    "name": "ipython",
    "version": 3
   },
   "file_extension": ".py",
   "mimetype": "text/x-python",
   "name": "python",
   "nbconvert_exporter": "python",
   "pygments_lexer": "ipython3",
   "version": "3.10.0"
  }
 },
 "nbformat": 4,
 "nbformat_minor": 5
}
