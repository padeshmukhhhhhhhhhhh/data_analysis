{
 "cells": [
  {
   "cell_type": "code",
   "execution_count": 1,
   "id": "5822aec5-7662-42b3-bac4-0ebf69ff4c50",
   "metadata": {},
   "outputs": [
    {
     "name": "stdout",
     "output_type": "stream",
     "text": [
      "Collecting smartapi-pythonNote: you may need to restart the kernel to use updated packages.\n",
      "\n",
      "  Downloading smartapi_python-1.4.1-py3-none-any.whl (24 kB)\n",
      "Requirement already satisfied: six>=1.11.0 in c:\\users\\admin\\appdata\\local\\programs\\python\\python310\\lib\\site-packages (from smartapi-python) (1.16.0)\n",
      "Requirement already satisfied: requests>=2.18.4 in c:\\users\\admin\\appdata\\local\\programs\\python\\python310\\lib\\site-packages (from smartapi-python) (2.31.0)\n",
      "Requirement already satisfied: python-dateutil>=2.6.1 in c:\\users\\admin\\appdata\\local\\programs\\python\\python310\\lib\\site-packages (from smartapi-python) (2.8.2)\n",
      "Requirement already satisfied: charset-normalizer<4,>=2 in c:\\users\\admin\\appdata\\local\\programs\\python\\python310\\lib\\site-packages (from requests>=2.18.4->smartapi-python) (3.3.2)\n",
      "Requirement already satisfied: urllib3<3,>=1.21.1 in c:\\users\\admin\\appdata\\local\\programs\\python\\python310\\lib\\site-packages (from requests>=2.18.4->smartapi-python) (2.1.0)\n",
      "Requirement already satisfied: idna<4,>=2.5 in c:\\users\\admin\\appdata\\local\\programs\\python\\python310\\lib\\site-packages (from requests>=2.18.4->smartapi-python) (3.6)\n",
      "Requirement already satisfied: certifi>=2017.4.17 in c:\\users\\admin\\appdata\\local\\programs\\python\\python310\\lib\\site-packages (from requests>=2.18.4->smartapi-python) (2023.11.17)\n",
      "Installing collected packages: smartapi-python\n",
      "Successfully installed smartapi-python-1.4.1\n"
     ]
    },
    {
     "name": "stderr",
     "output_type": "stream",
     "text": [
      "WARNING: You are using pip version 21.2.3; however, version 23.3.2 is available.\n",
      "You should consider upgrading via the 'C:\\Users\\admin\\AppData\\Local\\Programs\\Python\\Python310\\python.exe -m pip install --upgrade pip' command.\n"
     ]
    }
   ],
   "source": [
    "pip install smartapi-python"
   ]
  },
  {
   "cell_type": "code",
   "execution_count": 2,
   "id": "47cf33f2-384f-4190-bb42-351a7d3cec62",
   "metadata": {},
   "outputs": [
    {
     "ename": "ModuleNotFoundError",
     "evalue": "No module named 'logzero'",
     "output_type": "error",
     "traceback": [
      "\u001b[1;31m---------------------------------------------------------------------------\u001b[0m",
      "\u001b[1;31mModuleNotFoundError\u001b[0m                       Traceback (most recent call last)",
      "Cell \u001b[1;32mIn[2], line 1\u001b[0m\n\u001b[1;32m----> 1\u001b[0m \u001b[38;5;28;01mfrom\u001b[39;00m \u001b[38;5;21;01mSmartApi\u001b[39;00m \u001b[38;5;28;01mimport\u001b[39;00m SmartConnect\n",
      "File \u001b[1;32m~\\AppData\\Local\\Programs\\Python\\Python310\\lib\\site-packages\\SmartApi\\__init__.py:3\u001b[0m\n\u001b[0;32m      1\u001b[0m \u001b[38;5;28;01mfrom\u001b[39;00m \u001b[38;5;21;01m__future__\u001b[39;00m \u001b[38;5;28;01mimport\u001b[39;00m unicode_literals,absolute_import\n\u001b[1;32m----> 3\u001b[0m \u001b[38;5;28;01mfrom\u001b[39;00m \u001b[38;5;21;01mSmartApi\u001b[39;00m\u001b[38;5;21;01m.\u001b[39;00m\u001b[38;5;21;01msmartConnect\u001b[39;00m \u001b[38;5;28;01mimport\u001b[39;00m SmartConnect\n\u001b[0;32m      4\u001b[0m \u001b[38;5;66;03m# from SmartApi.webSocket import WebSocket\u001b[39;00m\n\u001b[0;32m      5\u001b[0m \u001b[38;5;28;01mfrom\u001b[39;00m \u001b[38;5;21;01mSmartApi\u001b[39;00m\u001b[38;5;21;01m.\u001b[39;00m\u001b[38;5;21;01msmartApiWebsocket\u001b[39;00m \u001b[38;5;28;01mimport\u001b[39;00m SmartWebSocket\n",
      "File \u001b[1;32m~\\AppData\\Local\\Programs\\Python\\Python310\\lib\\site-packages\\SmartApi\\smartConnect.py:10\u001b[0m\n\u001b[0;32m      8\u001b[0m \u001b[38;5;28;01mimport\u001b[39;00m \u001b[38;5;21;01msocket\u001b[39;00m\n\u001b[0;32m      9\u001b[0m \u001b[38;5;28;01mimport\u001b[39;00m \u001b[38;5;21;01mos\u001b[39;00m\n\u001b[1;32m---> 10\u001b[0m \u001b[38;5;28;01mimport\u001b[39;00m \u001b[38;5;21;01mlogzero\u001b[39;00m\n\u001b[0;32m     11\u001b[0m \u001b[38;5;28;01mfrom\u001b[39;00m \u001b[38;5;21;01mlogzero\u001b[39;00m \u001b[38;5;28;01mimport\u001b[39;00m logger\n\u001b[0;32m     12\u001b[0m \u001b[38;5;28;01mimport\u001b[39;00m \u001b[38;5;21;01mtime\u001b[39;00m\n",
      "\u001b[1;31mModuleNotFoundError\u001b[0m: No module named 'logzero'"
     ]
    }
   ],
   "source": [
    "from SmartApi import SmartConnect"
   ]
  },
  {
   "cell_type": "code",
   "execution_count": 5,
   "id": "0a2e7bb3-243f-44ae-b99e-c672fa146c19",
   "metadata": {},
   "outputs": [
    {
     "name": "stdout",
     "output_type": "stream",
     "text": [
      "Collecting attrs==23.1.0\n",
      "  Using cached attrs-23.1.0-py3-none-any.whl (61 kB)\n",
      "Collecting autobahn==23.6.2\n",
      "  Downloading autobahn-23.6.2.tar.gz (480 kB)\n",
      "Collecting Automat==22.10.0\n",
      "  Downloading Automat-22.10.0-py2.py3-none-any.whl (26 kB)\n",
      "Collecting certifi==2023.5.7\n",
      "  Downloading certifi-2023.5.7-py3-none-any.whl (156 kB)\n",
      "Collecting cffi==1.15.1\n",
      "  Downloading cffi-1.15.1-cp310-cp310-win_amd64.whl (179 kB)\n",
      "Collecting charset-normalizer==3.1.0\n",
      "  Downloading charset_normalizer-3.1.0-cp310-cp310-win_amd64.whl (97 kB)\n",
      "Collecting constantly==15.1.0\n",
      "  Downloading constantly-15.1.0-py2.py3-none-any.whl (7.9 kB)\n",
      "Collecting cryptography==41.0.1\n",
      "  Downloading cryptography-41.0.1-cp37-abi3-win_amd64.whl (2.6 MB)\n",
      "Collecting hyperlink==21.0.0\n",
      "  Downloading hyperlink-21.0.0-py2.py3-none-any.whl (74 kB)\n",
      "Collecting idna==3.4\n",
      "  Using cached idna-3.4-py3-none-any.whl (61 kB)\n",
      "Collecting incremental==22.10.0\n",
      "  Downloading incremental-22.10.0-py2.py3-none-any.whl (16 kB)\n",
      "Collecting isodate==0.6.1\n",
      "  Downloading isodate-0.6.1-py2.py3-none-any.whl (41 kB)\n",
      "Collecting logzero==1.7.0\n",
      "  Downloading logzero-1.7.0-py2.py3-none-any.whl (16 kB)\n",
      "Requirement already satisfied: pycparser==2.21 in c:\\users\\admin\\appdata\\local\\programs\\python\\python310\\lib\\site-packages (from -r requirements_dev.txt (line 14)) (2.21)\n",
      "Collecting pycrypto==2.6.1\n",
      "  Downloading pycrypto-2.6.1.tar.gz (446 kB)\n",
      "Collecting pyotp==2.8.0\n",
      "  Downloading pyotp-2.8.0-py3-none-any.whl (12 kB)\n",
      "Collecting pyparsing==3.1.0\n",
      "  Downloading pyparsing-3.1.0-py3-none-any.whl (102 kB)\n",
      "Requirement already satisfied: python-dateutil==2.8.2 in c:\\users\\admin\\appdata\\local\\programs\\python\\python310\\lib\\site-packages (from -r requirements_dev.txt (line 18)) (2.8.2)\n",
      "Collecting pytz==2023.3\n",
      "  Using cached pytz-2023.3-py2.py3-none-any.whl (502 kB)\n",
      "Collecting rdflib==6.3.2\n",
      "  Downloading rdflib-6.3.2-py3-none-any.whl (528 kB)\n",
      "Collecting rdflib-jsonld==0.6.2\n",
      "  Downloading rdflib_jsonld-0.6.2-py2.py3-none-any.whl (4.0 kB)\n",
      "Requirement already satisfied: requests==2.31.0 in c:\\users\\admin\\appdata\\local\\programs\\python\\python310\\lib\\site-packages (from -r requirements_dev.txt (line 22)) (2.31.0)\n",
      "Collecting simplejson==3.19.1\n",
      "  Downloading simplejson-3.19.1-cp310-cp310-win_amd64.whl (75 kB)\n",
      "Requirement already satisfied: six==1.16.0 in c:\\users\\admin\\appdata\\local\\programs\\python\\python310\\lib\\site-packages (from -r requirements_dev.txt (line 24)) (1.16.0)\n",
      "Requirement already satisfied: smartapi-python==1.4.1 in c:\\users\\admin\\appdata\\local\\programs\\python\\python310\\lib\\site-packages (from -r requirements_dev.txt (line 25)) (1.4.1)\n",
      "Collecting Twisted==22.10.0\n",
      "  Downloading Twisted-22.10.0-py3-none-any.whl (3.1 MB)\n",
      "Collecting txaio==23.1.1\n",
      "  Downloading txaio-23.1.1-py2.py3-none-any.whl (30 kB)\n",
      "Collecting typing_extensions==4.6.3\n",
      "  Downloading typing_extensions-4.6.3-py3-none-any.whl (31 kB)\n",
      "Collecting urllib3==2.0.3\n",
      "  Downloading urllib3-2.0.3-py3-none-any.whl (123 kB)\n",
      "Collecting websocket-client==1.6.0\n",
      "  Downloading websocket_client-1.6.0-py3-none-any.whl (56 kB)\n",
      "Collecting zope.interface==6.0\n",
      "  Downloading zope.interface-6.0-cp310-cp310-win_amd64.whl (204 kB)\n",
      "Requirement already satisfied: setuptools in c:\\users\\admin\\appdata\\local\\programs\\python\\python310\\lib\\site-packages (from autobahn==23.6.2->-r requirements_dev.txt (line 2)) (57.4.0)\n",
      "Requirement already satisfied: colorama in c:\\users\\admin\\appdata\\local\\programs\\python\\python310\\lib\\site-packages (from logzero==1.7.0->-r requirements_dev.txt (line 13)) (0.4.6)\n",
      "Collecting twisted-iocpsupport<2,>=1.0.2\n",
      "  Downloading twisted_iocpsupport-1.0.4-cp310-cp310-win_amd64.whl (46 kB)\n",
      "Using legacy 'setup.py install' for autobahn, since package 'wheel' is not installed.\n",
      "Using legacy 'setup.py install' for pycrypto, since package 'wheel' is not installed.\n",
      "Installing collected packages: urllib3, pyparsing, isodate, idna, charset-normalizer, cffi, certifi, attrs, zope.interface, typing-extensions, txaio, twisted-iocpsupport, rdflib, incremental, hyperlink, cryptography, constantly, Automat, websocket-client, Twisted, simplejson, rdflib-jsonld, pytz, pyotp, pycrypto, logzero, autobahn\n",
      "  Attempting uninstall: urllib3\n",
      "    Found existing installation: urllib3 2.1.0\n",
      "    Uninstalling urllib3-2.1.0:\n",
      "      Successfully uninstalled urllib3-2.1.0\n",
      "  Attempting uninstall: idna\n",
      "    Found existing installation: idna 3.6\n",
      "    Uninstalling idna-3.6:\n",
      "      Successfully uninstalled idna-3.6\n",
      "  Attempting uninstall: charset-normalizer\n",
      "    Found existing installation: charset-normalizer 3.3.2\n",
      "    Uninstalling charset-normalizer-3.3.2:\n",
      "      Successfully uninstalled charset-normalizer-3.3.2\n",
      "Note: you may need to restart the kernel to use updated packages.\n"
     ]
    },
    {
     "name": "stderr",
     "output_type": "stream",
     "text": [
      "ERROR: Could not install packages due to an OSError: [WinError 5] Access is denied: 'C:\\\\Users\\\\admin\\\\AppData\\\\Local\\\\Programs\\\\Python\\\\Python310\\\\Lib\\\\site-packages\\\\~harset_normalizer\\\\md.cp310-win_amd64.pyd'\n",
      "Consider using the `--user` option or check the permissions.\n",
      "\n",
      "WARNING: You are using pip version 21.2.3; however, version 23.3.2 is available.\n",
      "You should consider upgrading via the 'C:\\Users\\admin\\AppData\\Local\\Programs\\Python\\Python310\\python.exe -m pip install --upgrade pip' command.\n"
     ]
    }
   ],
   "source": [
    "pip install -r requirements_dev.txt      "
   ]
  },
  {
   "cell_type": "code",
   "execution_count": null,
   "id": "21661ea1-5403-45c7-9bfb-2c7be09c6ff0",
   "metadata": {},
   "outputs": [],
   "source": []
  },
  {
   "cell_type": "code",
   "execution_count": 1,
   "id": "a6cfebe8-3183-4513-a803-bdd65e3905e0",
   "metadata": {},
   "outputs": [],
   "source": [
    "from SmartApi import SmartConnect"
   ]
  },
  {
   "cell_type": "code",
   "execution_count": 7,
   "id": "4f4657e8-b2c2-4bb9-917a-b9f8b32e9bb4",
   "metadata": {},
   "outputs": [
    {
     "name": "stdout",
     "output_type": "stream",
     "text": [
      "Collecting logzero\n",
      "  Using cached logzero-1.7.0-py2.py3-none-any.whl (16 kB)\n",
      "Requirement already satisfied: colorama in c:\\users\\admin\\appdata\\local\\programs\\python\\python310\\lib\\site-packages (from logzero) (0.4.6)\n",
      "Installing collected packages: logzero\n",
      "Successfully installed logzero-1.7.0\n",
      "Note: you may need to restart the kernel to use updated packages.\n"
     ]
    },
    {
     "name": "stderr",
     "output_type": "stream",
     "text": [
      "WARNING: You are using pip version 21.2.3; however, version 23.3.2 is available.\n",
      "You should consider upgrading via the 'C:\\Users\\admin\\AppData\\Local\\Programs\\Python\\Python310\\python.exe -m pip install --upgrade pip' command.\n"
     ]
    }
   ],
   "source": [
    "pip install logzero"
   ]
  },
  {
   "cell_type": "code",
   "execution_count": 8,
   "id": "48bb8427-c3eb-4dd0-a9c9-ef430397233c",
   "metadata": {},
   "outputs": [],
   "source": [
    "from SmartApi import SmartConnect"
   ]
  },
  {
   "cell_type": "code",
   "execution_count": 2,
   "id": "11f8a9be-76bb-480d-978a-2d0680513ec8",
   "metadata": {},
   "outputs": [
    {
     "ename": "ModuleNotFoundError",
     "evalue": "No module named 'logzero'",
     "output_type": "error",
     "traceback": [
      "\u001b[1;31m---------------------------------------------------------------------------\u001b[0m",
      "\u001b[1;31mModuleNotFoundError\u001b[0m                       Traceback (most recent call last)",
      "Cell \u001b[1;32mIn[2], line 1\u001b[0m\n\u001b[1;32m----> 1\u001b[0m \u001b[38;5;28;01mfrom\u001b[39;00m \u001b[38;5;21;01mSmartApi\u001b[39;00m \u001b[38;5;28;01mimport\u001b[39;00m SmartConnect\n",
      "File \u001b[1;32m~\\AppData\\Local\\Programs\\Python\\Python310\\lib\\site-packages\\SmartApi\\__init__.py:3\u001b[0m\n\u001b[0;32m      1\u001b[0m \u001b[38;5;28;01mfrom\u001b[39;00m \u001b[38;5;21;01m__future__\u001b[39;00m \u001b[38;5;28;01mimport\u001b[39;00m unicode_literals,absolute_import\n\u001b[1;32m----> 3\u001b[0m \u001b[38;5;28;01mfrom\u001b[39;00m \u001b[38;5;21;01mSmartApi\u001b[39;00m\u001b[38;5;21;01m.\u001b[39;00m\u001b[38;5;21;01msmartConnect\u001b[39;00m \u001b[38;5;28;01mimport\u001b[39;00m SmartConnect\n\u001b[0;32m      4\u001b[0m \u001b[38;5;66;03m# from SmartApi.webSocket import WebSocket\u001b[39;00m\n\u001b[0;32m      5\u001b[0m \u001b[38;5;28;01mfrom\u001b[39;00m \u001b[38;5;21;01mSmartApi\u001b[39;00m\u001b[38;5;21;01m.\u001b[39;00m\u001b[38;5;21;01msmartApiWebsocket\u001b[39;00m \u001b[38;5;28;01mimport\u001b[39;00m SmartWebSocket\n",
      "File \u001b[1;32m~\\AppData\\Local\\Programs\\Python\\Python310\\lib\\site-packages\\SmartApi\\smartConnect.py:10\u001b[0m\n\u001b[0;32m      8\u001b[0m \u001b[38;5;28;01mimport\u001b[39;00m \u001b[38;5;21;01msocket\u001b[39;00m\n\u001b[0;32m      9\u001b[0m \u001b[38;5;28;01mimport\u001b[39;00m \u001b[38;5;21;01mos\u001b[39;00m\n\u001b[1;32m---> 10\u001b[0m \u001b[38;5;28;01mimport\u001b[39;00m \u001b[38;5;21;01mlogzero\u001b[39;00m\n\u001b[0;32m     11\u001b[0m \u001b[38;5;28;01mfrom\u001b[39;00m \u001b[38;5;21;01mlogzero\u001b[39;00m \u001b[38;5;28;01mimport\u001b[39;00m logger\n\u001b[0;32m     12\u001b[0m \u001b[38;5;28;01mimport\u001b[39;00m \u001b[38;5;21;01mtime\u001b[39;00m\n",
      "\u001b[1;31mModuleNotFoundError\u001b[0m: No module named 'logzero'"
     ]
    }
   ],
   "source": [
    "from SmartApi import SmartConnect"
   ]
  },
  {
   "cell_type": "code",
   "execution_count": 50,
   "id": "40c68652-4192-41f7-96fb-8f5cf5d41cf3",
   "metadata": {},
   "outputs": [
    {
     "name": "stderr",
     "output_type": "stream",
     "text": [
      "WARNING: You are using pip version 21.2.3; however, version 23.3.2 is available."
     ]
    },
    {
     "name": "stdout",
     "output_type": "stream",
     "text": [
      "Collecting pyotp"
     ]
    },
    {
     "name": "stderr",
     "output_type": "stream",
     "text": [
      "\n"
     ]
    },
    {
     "name": "stdout",
     "output_type": "stream",
     "text": [
      "\n",
      "  Downloading pyotp-2.9.0-py3-none-any.whl (13 kB)Note: you may need to restart the kernel to use updated packages."
     ]
    },
    {
     "name": "stderr",
     "output_type": "stream",
     "text": [
      "You should consider upgrading via the 'C:\\Users\\admin\\AppData\\Local\\Programs\\Python\\Python310\\python.exe -m pip install --upgrade pip' command."
     ]
    },
    {
     "name": "stdout",
     "output_type": "stream",
     "text": [
      "\n",
      "\n"
     ]
    },
    {
     "name": "stderr",
     "output_type": "stream",
     "text": [
      "\n"
     ]
    },
    {
     "name": "stdout",
     "output_type": "stream",
     "text": [
      "Installing collected packages: pyotp\n",
      "Successfully installed pyotp-2.9.0\n"
     ]
    }
   ],
   "source": [
    "pip install pyotp"
   ]
  },
  {
   "cell_type": "code",
   "execution_count": 5,
   "id": "61dde192-0f11-4ef4-b57c-c0f3256d6150",
   "metadata": {},
   "outputs": [],
   "source": [
    "from SmartApi import SmartConnect"
   ]
  },
  {
   "cell_type": "code",
   "execution_count": 2,
   "id": "b00e63b5-fca9-4229-9fe1-3dbbaf86a984",
   "metadata": {},
   "outputs": [],
   "source": [
    "from SmartApi import SmartConnect\n",
    "import pyotp\n",
    "from logzero import logger\n",
    "api_key=\"Fh7Yx6v6\"\n",
    "try:\n",
    "    token = \"BVRHBRPZV7XRLWEDB3GUK26YGA\"\n",
    "    totp = pyotp.TOTP(token).now()\n",
    "except Exception as e:\n",
    "    logger.error(\"Invalid Token: The provided token is not valid.\")\n",
    "    raise e\n",
    "\n",
    "smartApi = SmartConnect(api_key)"
   ]
  },
  {
   "cell_type": "code",
   "execution_count": 3,
   "id": "3913eb39-9f74-4453-93e5-b3f59951a15c",
   "metadata": {},
   "outputs": [],
   "source": [
    "username=\"V405113\"\n",
    "pwd='3792'\n",
    "data = smartApi.generateSession(username, pwd,totp)"
   ]
  },
  {
   "cell_type": "code",
   "execution_count": 5,
   "id": "da160afb-97c2-422e-9ab5-4ea3d12fd1f9",
   "metadata": {},
   "outputs": [
    {
     "name": "stderr",
     "output_type": "stream",
     "text": [
      "WARNING: You are using pip version 21.2.3; however, version 23.3.2 is available."
     ]
    },
    {
     "name": "stdout",
     "output_type": "stream",
     "text": [
      "Requirement already satisfied: pandas in c:\\users\\admin\\appdata\\local\\programs\\python\\python310\\lib\\site-packages (2.2.0)Note: you may need to restart the kernel to use updated packages.\n",
      "\n"
     ]
    },
    {
     "name": "stderr",
     "output_type": "stream",
     "text": [
      "\n"
     ]
    },
    {
     "name": "stdout",
     "output_type": "stream",
     "text": [
      "Requirement already satisfied: python-dateutil>=2.8.2 in c:\\users\\admin\\appdata\\local\\programs\\python\\python310\\lib\\site-packages (from pandas) (2.8.2)"
     ]
    },
    {
     "name": "stderr",
     "output_type": "stream",
     "text": [
      "You should consider upgrading via the 'C:\\Users\\admin\\AppData\\Local\\Programs\\Python\\Python310\\python.exe -m pip install --upgrade pip' command."
     ]
    },
    {
     "name": "stdout",
     "output_type": "stream",
     "text": [
      "\n"
     ]
    },
    {
     "name": "stderr",
     "output_type": "stream",
     "text": [
      "\n"
     ]
    },
    {
     "name": "stdout",
     "output_type": "stream",
     "text": [
      "Requirement already satisfied: pytz>=2020.1 in c:\\users\\admin\\appdata\\local\\programs\\python\\python310\\lib\\site-packages (from pandas) (2023.4)\n",
      "Requirement already satisfied: numpy<2,>=1.22.4 in c:\\users\\admin\\appdata\\local\\programs\\python\\python310\\lib\\site-packages (from pandas) (1.26.3)\n",
      "Requirement already satisfied: tzdata>=2022.7 in c:\\users\\admin\\appdata\\local\\programs\\python\\python310\\lib\\site-packages (from pandas) (2023.4)\n",
      "Requirement already satisfied: six>=1.5 in c:\\users\\admin\\appdata\\local\\programs\\python\\python310\\lib\\site-packages (from python-dateutil>=2.8.2->pandas) (1.16.0)\n"
     ]
    }
   ],
   "source": [
    "pip install pandas"
   ]
  },
  {
   "cell_type": "code",
   "execution_count": 13,
   "id": "d1b57cda-f08e-4959-b3a2-8fdb78ea30a3",
   "metadata": {},
   "outputs": [
    {
     "name": "stderr",
     "output_type": "stream",
     "text": [
      "WARNING: You are using pip version 21.2.3; however, version 23.3.2 is available."
     ]
    },
    {
     "name": "stdout",
     "output_type": "stream",
     "text": [
      "Requirement already satisfied: requests in c:\\users\\admin\\appdata\\local\\programs\\python\\python310\\lib\\site-packages (2.31.0)Note: you may need to restart the kernel to use updated packages."
     ]
    },
    {
     "name": "stderr",
     "output_type": "stream",
     "text": [
      "\n"
     ]
    },
    {
     "name": "stdout",
     "output_type": "stream",
     "text": [
      "\n",
      "\n"
     ]
    },
    {
     "name": "stderr",
     "output_type": "stream",
     "text": [
      "You should consider upgrading via the 'C:\\Users\\admin\\AppData\\Local\\Programs\\Python\\Python310\\python.exe -m pip install --upgrade pip' command."
     ]
    },
    {
     "name": "stdout",
     "output_type": "stream",
     "text": [
      "Requirement already satisfied: urllib3<3,>=1.21.1 in c:\\users\\admin\\appdata\\local\\programs\\python\\python310\\lib\\site-packages (from requests) (2.0.3)"
     ]
    },
    {
     "name": "stderr",
     "output_type": "stream",
     "text": [
      "\n"
     ]
    },
    {
     "name": "stdout",
     "output_type": "stream",
     "text": [
      "\n",
      "Requirement already satisfied: charset-normalizer<4,>=2 in c:\\users\\admin\\appdata\\local\\programs\\python\\python310\\lib\\site-packages (from requests) (3.1.0)\n",
      "Requirement already satisfied: idna<4,>=2.5 in c:\\users\\admin\\appdata\\local\\programs\\python\\python310\\lib\\site-packages (from requests) (3.4)\n",
      "Requirement already satisfied: certifi>=2017.4.17 in c:\\users\\admin\\appdata\\local\\programs\\python\\python310\\lib\\site-packages (from requests) (2023.11.17)\n"
     ]
    }
   ],
   "source": [
    "pip install requests"
   ]
  },
  {
   "cell_type": "code",
   "execution_count": 14,
   "id": "0c0b5097-fcd1-42ea-b049-3d88d264c86c",
   "metadata": {},
   "outputs": [
    {
     "name": "stderr",
     "output_type": "stream",
     "text": [
      "C:\\Users\\admin\\AppData\\Local\\Temp\\ipykernel_14800\\2730671987.py:1: DeprecationWarning: \n",
      "Pyarrow will become a required dependency of pandas in the next major release of pandas (pandas 3.0),\n",
      "(to allow more performant data types, such as the Arrow string type, and better interoperability with other libraries)\n",
      "but was not found to be installed on your system.\n",
      "If this would cause problems for you,\n",
      "please provide us feedback at https://github.com/pandas-dev/pandas/issues/54466\n",
      "        \n",
      "  import pandas as pd\n"
     ]
    }
   ],
   "source": [
    "import pandas as pd\n",
    "import requests as rq"
   ]
  },
  {
   "cell_type": "code",
   "execution_count": 16,
   "id": "81f9ffbb-9bc6-426e-925e-6622cf0921ee",
   "metadata": {},
   "outputs": [],
   "source": [
    "data=pd.DataFrame([1,2,3],[32,12,34])"
   ]
  },
  {
   "cell_type": "code",
   "execution_count": 31,
   "id": "a337e279-720c-4e82-96f9-f754c6aef718",
   "metadata": {},
   "outputs": [],
   "source": [
    "data=rq.get(\"https://margincalculator.angelbroking.com/OpenAPI_File/files/OpenAPIScripMaster.json\").json()"
   ]
  },
  {
   "cell_type": "code",
   "execution_count": 40,
   "id": "a8435c7f-cf0b-41d9-86fd-b17d995e0874",
   "metadata": {},
   "outputs": [],
   "source": [
    "condata=pd.DataFrame.from_dict(data)"
   ]
  },
  {
   "cell_type": "code",
   "execution_count": 43,
   "id": "22ec9c22-8e14-456f-8aff-8e1d9140cfd4",
   "metadata": {},
   "outputs": [],
   "source": [
    "condata.to_csv(\"newangle.csv\")"
   ]
  },
  {
   "cell_type": "code",
   "execution_count": 4,
   "id": "a44326f8-1c1a-4775-a4cc-f68acd6caeb5",
   "metadata": {},
   "outputs": [],
   "source": [
    "class stock:\n",
    "    def main(self,exchange, tradingsymbol, symboltoken):\n",
    "        \n",
    "        lastprice=smartApi.ltpData(exchange,tradingsymbol,symboltoken)\n",
    "\n",
    "        print(f\"LTP of {tradingsymbol} = {lastprice['data']['ltp']}\")\n",
    "\n",
    "ob=stock()"
   ]
  },
  {
   "cell_type": "code",
   "execution_count": 5,
   "id": "6b672973-176b-4390-abd4-c2dd8507f6a1",
   "metadata": {},
   "outputs": [
    {
     "name": "stdout",
     "output_type": "stream",
     "text": [
      "LTP of IDFC-EQ = 117.75\n",
      "LTP of VIJAYA-EQ = 648.7\n",
      "LTP of ITC = 440.2\n"
     ]
    }
   ],
   "source": [
    "from threading import Thread\n",
    "\n",
    "\n",
    "t1=Thread(target=ob.main,args=(\"BSE\",\"ITC\",500875))\n",
    "t1.start()\n",
    "t2=Thread(target=ob.main,args=(\"NSE\",\"IDFC-EQ\",11957))\n",
    "t2.start()\n",
    "t3=Thread(target=ob.main,args=(\"NSE\",\"VIJAYA-EQ\",5585))\n",
    "t3.start()\n"
   ]
  },
  {
   "cell_type": "code",
   "execution_count": 8,
   "id": "55d50d24-ea1b-4019-99cd-3fb5e0d49914",
   "metadata": {},
   "outputs": [
    {
     "name": "stdout",
     "output_type": "stream",
     "text": [
      "LTP of IDFC-EQ = 117.75\n",
      "LTP of ITC = 440.2\n",
      "LTP of VIJAYA-EQ = 648.7\n"
     ]
    }
   ],
   "source": [
    "from threading import Thread\n",
    "\n",
    "\n",
    "thread_args_list = [\n",
    "    {\"exchange\": \"BSE\", \"tradingsymbol\": \"ITC\", \"symboltoken\": 500875},\n",
    "    {\"exchange\": \"NSE\", \"tradingsymbol\": \"IDFC-EQ\", \"symboltoken\": 11957},\n",
    "    {\"exchange\": \"NSE\", \"tradingsymbol\": \"VIJAYA-EQ\", \"symboltoken\": 5585},\n",
    "   \n",
    "]\n",
    "\n",
    "\n",
    "threads = []\n",
    "\n",
    "# Create and start each thread\n",
    "for args in thread_args_list:\n",
    "    thread = Thread(target=ob.main, kwargs=args)\n",
    "    thread.start()\n",
    "    threads.append(thread)\n",
    "\n",
    "# Wait for all threads to complete\n",
    "for thread in threads:\n",
    "    thread.join()\n"
   ]
  },
  {
   "cell_type": "code",
   "execution_count": null,
   "id": "96e8e4b1-d570-4ffa-84e1-c09c6f3bc547",
   "metadata": {},
   "outputs": [],
   "source": []
  },
  {
   "cell_type": "code",
   "execution_count": null,
   "id": "6e8788cf-4a6e-4e74-987f-74575c459ae4",
   "metadata": {},
   "outputs": [],
   "source": []
  }
 ],
 "metadata": {
  "kernelspec": {
   "display_name": "Python 3 (ipykernel)",
   "language": "python",
   "name": "python3"
  },
  "language_info": {
   "codemirror_mode": {
    "name": "ipython",
    "version": 3
   },
   "file_extension": ".py",
   "mimetype": "text/x-python",
   "name": "python",
   "nbconvert_exporter": "python",
   "pygments_lexer": "ipython3",
   "version": "3.10.0"
  }
 },
 "nbformat": 4,
 "nbformat_minor": 5
}
